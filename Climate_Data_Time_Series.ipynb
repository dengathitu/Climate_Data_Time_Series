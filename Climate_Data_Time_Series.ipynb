{
  "nbformat": 4,
  "nbformat_minor": 0,
  "metadata": {
    "colab": {
      "provenance": [],
      "authorship_tag": "ABX9TyMsrlyG3ZrHsk8a6m1RR9mI",
      "include_colab_link": true
    },
    "kernelspec": {
      "name": "python3",
      "display_name": "Python 3"
    },
    "language_info": {
      "name": "python"
    }
  },
  "cells": [
    {
      "cell_type": "markdown",
      "metadata": {
        "id": "view-in-github",
        "colab_type": "text"
      },
      "source": [
        "<a href=\"https://colab.research.google.com/github/dengathitu/Climate_Data_Time_Series/blob/main/Climate_Data_Time_Series.ipynb\" target=\"_parent\"><img src=\"https://colab.research.google.com/assets/colab-badge.svg\" alt=\"Open In Colab\"/></a>"
      ]
    },
    {
      "cell_type": "markdown",
      "source": [
        "# **1. Load the Dataset**\n",
        "\n",
        "You've already loaded the dataset using Pandas in your notebook."
      ],
      "metadata": {
        "id": "LprKaTSmwNQ_"
      }
    },
    {
      "cell_type": "code",
      "execution_count": 14,
      "metadata": {
        "id": "4kN_z4aRkR8S"
      },
      "outputs": [],
      "source": [
        "import pandas as pd\n",
        "from tensorflow import keras\n",
        "import matplotlib.pyplot as plt\n",
        "import numpy as np\n",
        "import seaborn as sns\n",
        "import tensorflow as tf\n",
        "from sklearn.preprocessing import MinMaxScaler\n",
        "from sklearn.metrics import mean_squared_error, mean_absolute_error, r2_score\n",
        "from tensorflow.keras.models import Sequential\n",
        "from tensorflow.keras.layers import SimpleRNN, Dense\n",
        "\n",
        "\n",
        "from zipfile import ZipFile\n",
        "\n",
        "uri = \"https://storage.googleapis.com/tensorflow/tf-keras-datasets/jena_climate_2009_2016.csv.zip\"\n",
        "zip_path = keras.utils.get_file(origin=uri, fname=\"jena_climate_2009_2016.csv.zip\")\n",
        "zip_file = ZipFile(zip_path)\n",
        "zip_file.extractall()\n",
        "csv_path = \"jena_climate_2009_2016.csv\"\n",
        "\n",
        "df = pd.read_csv(csv_path)"
      ]
    },
    {
      "cell_type": "markdown",
      "source": [
        "# **2. Data Preprocessing**\n",
        "\n",
        "Time series data often requires specific preprocessing steps.\n",
        "\n",
        "Feature Scaling: Scale the numerical features to a similar range.\n",
        "Creating Sequences: Since RNNs process sequential data, you need to create input sequences and corresponding target values."
      ],
      "metadata": {
        "id": "R66XTyPiwn4D"
      }
    },
    {
      "cell_type": "code",
      "source": [
        "# Select relevant features\n",
        "features = ['p (mbar)', 'T (degC)', 'rho (g/m**3)'] # Example features, choose based on your analysis\n",
        "df_features = df[features]\n",
        "\n",
        "# Scale the features\n",
        "scaler = MinMaxScaler()\n",
        "scaled_features = scaler.fit_transform(df_features)\n",
        "\n",
        "# Create sequences\n",
        "def create_sequences(data, sequence_length):\n",
        "    sequences = []\n",
        "    for i in range(len(data) - sequence_length):\n",
        "        sequences.append(data[i:i + sequence_length])\n",
        "    return np.array(sequences)\n",
        "\n",
        "sequence_length = 24 # Example sequence length (e.g., 24 hours)\n",
        "sequences = create_sequences(scaled_features, sequence_length)\n",
        "\n",
        "# Define target variable (e.g., predicting temperature one step ahead)\n",
        "target_index = features.index('T (degC)') # Index of the target feature\n",
        "targets = scaled_features[sequence_length:, target_index]"
      ],
      "metadata": {
        "id": "uVQpIsp4um6C"
      },
      "execution_count": 9,
      "outputs": []
    },
    {
      "cell_type": "markdown",
      "source": [
        "# **3. Split the Dataset**\n",
        "\n",
        "For time series data, you typically split chronologically to avoid data leakage."
      ],
      "metadata": {
        "id": "WURgLJaSu267"
      }
    },
    {
      "cell_type": "code",
      "source": [
        "# Split into training, validation, and test sets\n",
        "train_split = int(0.7 * len(sequences))\n",
        "val_split = int(0.85 * len(sequences))\n",
        "\n",
        "x_train, x_val, x_test = sequences[:train_split], sequences[train_split:val_split], sequences[val_split:]\n",
        "y_train, y_val, y_test = targets[:train_split], targets[train_split:val_split], targets[val_split:]\n",
        "\n",
        "print(f\"Training data shape: {x_train.shape}\")\n",
        "print(f\"Validation data shape: {x_val.shape}\")\n",
        "print(f\"Test data shape: {x_test.shape}\")"
      ],
      "metadata": {
        "colab": {
          "base_uri": "https://localhost:8080/"
        },
        "id": "tBo6zuzxu9m6",
        "outputId": "8161e628-db75-47d3-db34-5115a22bd8ea"
      },
      "execution_count": 5,
      "outputs": [
        {
          "output_type": "stream",
          "name": "stdout",
          "text": [
            "Training data shape: (294368, 24, 3)\n",
            "Validation data shape: (63079, 24, 3)\n",
            "Test data shape: (63080, 24, 3)\n"
          ]
        }
      ]
    },
    {
      "cell_type": "markdown",
      "source": [
        "# **4. Build the RNN Model**\n",
        "\n",
        "You can use Keras to build your RNN model."
      ],
      "metadata": {
        "id": "RiugZGa_vHpq"
      }
    },
    {
      "cell_type": "code",
      "source": [
        "model = Sequential()\n",
        "model.add(SimpleRNN(units=32, activation='relu', input_shape=(sequence_length, len(features))))\n",
        "model.add(Dense(units=1)) # Output layer for predicting a single value\n",
        "\n",
        "model.compile(optimizer='adam', loss='mse')\n",
        "\n",
        "model.summary()"
      ],
      "metadata": {
        "colab": {
          "base_uri": "https://localhost:8080/",
          "height": 263
        },
        "id": "QsrisOFOvNFP",
        "outputId": "eacb2a26-4228-4a70-d9a8-b05694061ba5"
      },
      "execution_count": 11,
      "outputs": [
        {
          "output_type": "stream",
          "name": "stderr",
          "text": [
            "/usr/local/lib/python3.11/dist-packages/keras/src/layers/rnn/rnn.py:200: UserWarning: Do not pass an `input_shape`/`input_dim` argument to a layer. When using Sequential models, prefer using an `Input(shape)` object as the first layer in the model instead.\n",
            "  super().__init__(**kwargs)\n"
          ]
        },
        {
          "output_type": "display_data",
          "data": {
            "text/plain": [
              "\u001b[1mModel: \"sequential_1\"\u001b[0m\n"
            ],
            "text/html": [
              "<pre style=\"white-space:pre;overflow-x:auto;line-height:normal;font-family:Menlo,'DejaVu Sans Mono',consolas,'Courier New',monospace\"><span style=\"font-weight: bold\">Model: \"sequential_1\"</span>\n",
              "</pre>\n"
            ]
          },
          "metadata": {}
        },
        {
          "output_type": "display_data",
          "data": {
            "text/plain": [
              "┏━━━━━━━━━━━━━━━━━━━━━━━━━━━━━━━━━┳━━━━━━━━━━━━━━━━━━━━━━━━┳━━━━━━━━━━━━━━━┓\n",
              "┃\u001b[1m \u001b[0m\u001b[1mLayer (type)                   \u001b[0m\u001b[1m \u001b[0m┃\u001b[1m \u001b[0m\u001b[1mOutput Shape          \u001b[0m\u001b[1m \u001b[0m┃\u001b[1m \u001b[0m\u001b[1m      Param #\u001b[0m\u001b[1m \u001b[0m┃\n",
              "┡━━━━━━━━━━━━━━━━━━━━━━━━━━━━━━━━━╇━━━━━━━━━━━━━━━━━━━━━━━━╇━━━━━━━━━━━━━━━┩\n",
              "│ simple_rnn_1 (\u001b[38;5;33mSimpleRNN\u001b[0m)        │ (\u001b[38;5;45mNone\u001b[0m, \u001b[38;5;34m32\u001b[0m)             │         \u001b[38;5;34m1,152\u001b[0m │\n",
              "├─────────────────────────────────┼────────────────────────┼───────────────┤\n",
              "│ dense_1 (\u001b[38;5;33mDense\u001b[0m)                 │ (\u001b[38;5;45mNone\u001b[0m, \u001b[38;5;34m1\u001b[0m)              │            \u001b[38;5;34m33\u001b[0m │\n",
              "└─────────────────────────────────┴────────────────────────┴───────────────┘\n"
            ],
            "text/html": [
              "<pre style=\"white-space:pre;overflow-x:auto;line-height:normal;font-family:Menlo,'DejaVu Sans Mono',consolas,'Courier New',monospace\">┏━━━━━━━━━━━━━━━━━━━━━━━━━━━━━━━━━┳━━━━━━━━━━━━━━━━━━━━━━━━┳━━━━━━━━━━━━━━━┓\n",
              "┃<span style=\"font-weight: bold\"> Layer (type)                    </span>┃<span style=\"font-weight: bold\"> Output Shape           </span>┃<span style=\"font-weight: bold\">       Param # </span>┃\n",
              "┡━━━━━━━━━━━━━━━━━━━━━━━━━━━━━━━━━╇━━━━━━━━━━━━━━━━━━━━━━━━╇━━━━━━━━━━━━━━━┩\n",
              "│ simple_rnn_1 (<span style=\"color: #0087ff; text-decoration-color: #0087ff\">SimpleRNN</span>)        │ (<span style=\"color: #00d7ff; text-decoration-color: #00d7ff\">None</span>, <span style=\"color: #00af00; text-decoration-color: #00af00\">32</span>)             │         <span style=\"color: #00af00; text-decoration-color: #00af00\">1,152</span> │\n",
              "├─────────────────────────────────┼────────────────────────┼───────────────┤\n",
              "│ dense_1 (<span style=\"color: #0087ff; text-decoration-color: #0087ff\">Dense</span>)                 │ (<span style=\"color: #00d7ff; text-decoration-color: #00d7ff\">None</span>, <span style=\"color: #00af00; text-decoration-color: #00af00\">1</span>)              │            <span style=\"color: #00af00; text-decoration-color: #00af00\">33</span> │\n",
              "└─────────────────────────────────┴────────────────────────┴───────────────┘\n",
              "</pre>\n"
            ]
          },
          "metadata": {}
        },
        {
          "output_type": "display_data",
          "data": {
            "text/plain": [
              "\u001b[1m Total params: \u001b[0m\u001b[38;5;34m1,185\u001b[0m (4.63 KB)\n"
            ],
            "text/html": [
              "<pre style=\"white-space:pre;overflow-x:auto;line-height:normal;font-family:Menlo,'DejaVu Sans Mono',consolas,'Courier New',monospace\"><span style=\"font-weight: bold\"> Total params: </span><span style=\"color: #00af00; text-decoration-color: #00af00\">1,185</span> (4.63 KB)\n",
              "</pre>\n"
            ]
          },
          "metadata": {}
        },
        {
          "output_type": "display_data",
          "data": {
            "text/plain": [
              "\u001b[1m Trainable params: \u001b[0m\u001b[38;5;34m1,185\u001b[0m (4.63 KB)\n"
            ],
            "text/html": [
              "<pre style=\"white-space:pre;overflow-x:auto;line-height:normal;font-family:Menlo,'DejaVu Sans Mono',consolas,'Courier New',monospace\"><span style=\"font-weight: bold\"> Trainable params: </span><span style=\"color: #00af00; text-decoration-color: #00af00\">1,185</span> (4.63 KB)\n",
              "</pre>\n"
            ]
          },
          "metadata": {}
        },
        {
          "output_type": "display_data",
          "data": {
            "text/plain": [
              "\u001b[1m Non-trainable params: \u001b[0m\u001b[38;5;34m0\u001b[0m (0.00 B)\n"
            ],
            "text/html": [
              "<pre style=\"white-space:pre;overflow-x:auto;line-height:normal;font-family:Menlo,'DejaVu Sans Mono',consolas,'Courier New',monospace\"><span style=\"font-weight: bold\"> Non-trainable params: </span><span style=\"color: #00af00; text-decoration-color: #00af00\">0</span> (0.00 B)\n",
              "</pre>\n"
            ]
          },
          "metadata": {}
        }
      ]
    },
    {
      "cell_type": "markdown",
      "source": [
        "# **5. Train the Model**\n",
        "\n",
        "Train the model on the training data and use the validation data for monitoring performance."
      ],
      "metadata": {
        "id": "qbHgl1sQvbrn"
      }
    },
    {
      "cell_type": "code",
      "source": [
        "history = model.fit(x_train, y_train, epochs=10, batch_size=32, validation_data=(x_val, y_val))"
      ],
      "metadata": {
        "colab": {
          "base_uri": "https://localhost:8080/"
        },
        "id": "FsqBiDJ5vfwb",
        "outputId": "afaa568f-2a48-4294-c9f2-6d1a532f2b4a"
      },
      "execution_count": 7,
      "outputs": [
        {
          "output_type": "stream",
          "name": "stdout",
          "text": [
            "Epoch 1/10\n",
            "\u001b[1m9199/9199\u001b[0m \u001b[32m━━━━━━━━━━━━━━━━━━━━\u001b[0m\u001b[37m\u001b[0m \u001b[1m56s\u001b[0m 6ms/step - loss: 0.0074 - val_loss: 2.1656e-05\n",
            "Epoch 2/10\n",
            "\u001b[1m9199/9199\u001b[0m \u001b[32m━━━━━━━━━━━━━━━━━━━━\u001b[0m\u001b[37m\u001b[0m \u001b[1m84s\u001b[0m 6ms/step - loss: 1.8415e-05 - val_loss: 1.2957e-05\n",
            "Epoch 3/10\n",
            "\u001b[1m9199/9199\u001b[0m \u001b[32m━━━━━━━━━━━━━━━━━━━━\u001b[0m\u001b[37m\u001b[0m \u001b[1m54s\u001b[0m 6ms/step - loss: 1.6072e-05 - val_loss: 1.2750e-05\n",
            "Epoch 4/10\n",
            "\u001b[1m9199/9199\u001b[0m \u001b[32m━━━━━━━━━━━━━━━━━━━━\u001b[0m\u001b[37m\u001b[0m \u001b[1m85s\u001b[0m 6ms/step - loss: 1.4504e-05 - val_loss: 1.3700e-05\n",
            "Epoch 5/10\n",
            "\u001b[1m9199/9199\u001b[0m \u001b[32m━━━━━━━━━━━━━━━━━━━━\u001b[0m\u001b[37m\u001b[0m \u001b[1m84s\u001b[0m 6ms/step - loss: 1.3780e-05 - val_loss: 1.5125e-05\n",
            "Epoch 6/10\n",
            "\u001b[1m9199/9199\u001b[0m \u001b[32m━━━━━━━━━━━━━━━━━━━━\u001b[0m\u001b[37m\u001b[0m \u001b[1m76s\u001b[0m 6ms/step - loss: 1.3872e-05 - val_loss: 1.3754e-05\n",
            "Epoch 7/10\n",
            "\u001b[1m9199/9199\u001b[0m \u001b[32m━━━━━━━━━━━━━━━━━━━━\u001b[0m\u001b[37m\u001b[0m \u001b[1m81s\u001b[0m 6ms/step - loss: 1.3200e-05 - val_loss: 1.9211e-05\n",
            "Epoch 8/10\n",
            "\u001b[1m9199/9199\u001b[0m \u001b[32m━━━━━━━━━━━━━━━━━━━━\u001b[0m\u001b[37m\u001b[0m \u001b[1m53s\u001b[0m 6ms/step - loss: 1.3385e-05 - val_loss: 1.2867e-05\n",
            "Epoch 9/10\n",
            "\u001b[1m9199/9199\u001b[0m \u001b[32m━━━━━━━━━━━━━━━━━━━━\u001b[0m\u001b[37m\u001b[0m \u001b[1m53s\u001b[0m 6ms/step - loss: 1.3126e-05 - val_loss: 1.4866e-05\n",
            "Epoch 10/10\n",
            "\u001b[1m9199/9199\u001b[0m \u001b[32m━━━━━━━━━━━━━━━━━━━━\u001b[0m\u001b[37m\u001b[0m \u001b[1m58s\u001b[0m 6ms/step - loss: 1.2936e-05 - val_loss: 1.3007e-05\n"
          ]
        }
      ]
    },
    {
      "cell_type": "markdown",
      "source": [
        "# **6. Optimize and Evaluate**\n",
        "\n",
        "Optimization: You can optimize your pipeline by experimenting with different hyperparameters (e.g., number of units, activation functions, optimizer, learning rate), sequence lengths, features, and even different types of RNN layers (like LSTM or GRU). Use the validation set to guide your decisions.\n",
        "Evaluation: After finding the best pipeline, evaluate it on the test set."
      ],
      "metadata": {
        "id": "UOg2C98qzBDs"
      }
    },
    {
      "cell_type": "code",
      "source": [
        "loss = model.evaluate(x_test, y_test)\n",
        "print(f\"Test loss: {loss}\")\n",
        "\n",
        "# You can also calculate other metrics like R-squared or Mean Absolute Error (MAE)\n",
        "from sklearn.metrics import mean_absolute_error, r2_score\n",
        "\n",
        "predictions = model.predict(x_test)\n",
        "\n",
        "mae = mean_absolute_error(y_test, predictions)\n",
        "r2 = r2_score(y_test, predictions)\n",
        "\n",
        "print(f\"Test MAE: {mae}\")\n",
        "print(f\"Test R2: {r2}\")"
      ],
      "metadata": {
        "colab": {
          "base_uri": "https://localhost:8080/"
        },
        "id": "mZtpfiHHzOGu",
        "outputId": "3445fc6f-3add-46ff-9942-145edee2a6a4"
      },
      "execution_count": 12,
      "outputs": [
        {
          "output_type": "stream",
          "name": "stdout",
          "text": [
            "\u001b[1m1972/1972\u001b[0m \u001b[32m━━━━━━━━━━━━━━━━━━━━\u001b[0m\u001b[37m\u001b[0m \u001b[1m8s\u001b[0m 4ms/step - loss: 0.9861\n",
            "Test loss: 1.059733510017395\n",
            "\u001b[1m1972/1972\u001b[0m \u001b[32m━━━━━━━━━━━━━━━━━━━━\u001b[0m\u001b[37m\u001b[0m \u001b[1m6s\u001b[0m 3ms/step\n",
            "Test MAE: 1.0211098215691017\n",
            "Test R2: -62.63765025148336\n"
          ]
        }
      ]
    },
    {
      "cell_type": "markdown",
      "source": [
        "# **7. Use Model Attributes and Methods**\n",
        "\n",
        "You can access model attributes and use methods for further analysis and deployment."
      ],
      "metadata": {
        "id": "nKL2ztjGzxKU"
      }
    },
    {
      "cell_type": "code",
      "source": [
        "# Get model layers\n",
        "print(model.layers)\n",
        "\n",
        "# Get weights of a layer\n",
        "print(model.layers[0].get_weights())\n",
        "\n",
        "# Make predictions\n",
        "sample_sequence = x_test[0].reshape(1, sequence_length, len(features))\n",
        "predicted_value = model.predict(sample_sequence)\n",
        "print(f\"Predicted value: {predicted_value}\")"
      ],
      "metadata": {
        "colab": {
          "base_uri": "https://localhost:8080/"
        },
        "id": "9eNs8Tn_z1EW",
        "outputId": "887ee574-cc74-4e1e-a38f-397f9e346575"
      },
      "execution_count": 13,
      "outputs": [
        {
          "output_type": "stream",
          "name": "stdout",
          "text": [
            "[<SimpleRNN name=simple_rnn_1, built=True>, <Dense name=dense_1, built=True>]\n",
            "[array([[-0.07776594, -0.37373573,  0.0630379 , -0.0490762 , -0.34550768,\n",
            "         0.20495346,  0.11320016, -0.3524858 , -0.24686407, -0.06491673,\n",
            "        -0.05401865,  0.19419464,  0.07123339, -0.33866635,  0.36392525,\n",
            "         0.3533021 ,  0.20772097, -0.10102913, -0.28132161,  0.16052547,\n",
            "        -0.34671456,  0.08844224,  0.03499475,  0.26180926, -0.02822104,\n",
            "         0.15702632,  0.3018411 ,  0.35485306,  0.34840927,  0.18994907,\n",
            "        -0.01518282, -0.02538961],\n",
            "       [ 0.14107385, -0.33482468, -0.07361153,  0.05269152, -0.03859329,\n",
            "         0.31170532,  0.06218708, -0.05230317,  0.27822623,  0.28114858,\n",
            "         0.3161395 , -0.10014701,  0.2343277 ,  0.39168963,  0.37417647,\n",
            "         0.01176816, -0.31296223,  0.06911892, -0.13593218,  0.33429596,\n",
            "        -0.39971566, -0.4123844 ,  0.1616526 , -0.34361294, -0.08346364,\n",
            "         0.30285487,  0.02804887,  0.01104361,  0.1212745 , -0.13387614,\n",
            "        -0.33562493, -0.19527826],\n",
            "       [ 0.36925963,  0.23056605,  0.01173571, -0.3794132 ,  0.38438484,\n",
            "        -0.02180389,  0.37570497,  0.14901999, -0.13414574, -0.27176446,\n",
            "         0.09225264,  0.00257567, -0.24268322,  0.33109787, -0.06840947,\n",
            "        -0.23891991, -0.36920068,  0.40905038,  0.29889557,  0.03233823,\n",
            "         0.05593795, -0.3165741 , -0.14312038, -0.24153447,  0.06870639,\n",
            "        -0.21986462,  0.02076808,  0.03553984,  0.05711779,  0.35584673,\n",
            "         0.33202717, -0.29064956]], dtype=float32), array([[ 0.06175601,  0.19595394, -0.3130068 , ...,  0.12005918,\n",
            "         0.23165645,  0.1444935 ],\n",
            "       [ 0.12854479, -0.22583097,  0.02694057, ..., -0.24093294,\n",
            "         0.14451648, -0.02967345],\n",
            "       [ 0.08324517, -0.00107217, -0.23475708, ..., -0.23025797,\n",
            "        -0.01420663,  0.00898512],\n",
            "       ...,\n",
            "       [-0.02358067,  0.28098264,  0.0313858 , ..., -0.13809556,\n",
            "        -0.4560761 ,  0.18489   ],\n",
            "       [ 0.1761143 , -0.09338418,  0.3659781 , ...,  0.07411756,\n",
            "        -0.10245507,  0.0488247 ],\n",
            "       [ 0.0331047 ,  0.14189896, -0.01368082, ..., -0.14681616,\n",
            "         0.13019136,  0.271432  ]], dtype=float32), array([0., 0., 0., 0., 0., 0., 0., 0., 0., 0., 0., 0., 0., 0., 0., 0., 0.,\n",
            "       0., 0., 0., 0., 0., 0., 0., 0., 0., 0., 0., 0., 0., 0., 0.],\n",
            "      dtype=float32)]\n",
            "\u001b[1m1/1\u001b[0m \u001b[32m━━━━━━━━━━━━━━━━━━━━\u001b[0m\u001b[37m\u001b[0m \u001b[1m0s\u001b[0m 68ms/step\n",
            "Predicted value: [[-0.45861402]]\n"
          ]
        }
      ]
    }
  ]
}